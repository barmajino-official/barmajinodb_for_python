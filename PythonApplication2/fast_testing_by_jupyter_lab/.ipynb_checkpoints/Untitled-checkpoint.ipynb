{
 "cells": [
  {
   "cell_type": "code",
   "execution_count": 48,
   "id": "53e78bd0-a623-445d-a31a-a841f3176c92",
   "metadata": {},
   "outputs": [
    {
     "data": {
      "text/plain": [
       "False"
      ]
     },
     "execution_count": 48,
     "metadata": {},
     "output_type": "execute_result"
    }
   ],
   "source": [
    "import re\n",
    "type(\"a\") is str"
   ]
  },
  {
   "cell_type": "code",
   "execution_count": 10,
   "id": "1202abb0-2d16-45d4-a9aa-92fcfbd9bb46",
   "metadata": {},
   "outputs": [
    {
     "name": "stdout",
     "output_type": "stream",
     "text": [
      "['I', 'would', 'like', 'to', 'find\\\\:out', 'how', 'this\\\\:works']\n"
     ]
    }
   ],
   "source": [
    "pattern = r'(?<!\\\\):'\n",
    "\n",
    "s = 'I:would:like:to:find\\:out:how:this\\:works'\n",
    "print(re.split(pattern, s))"
   ]
  },
  {
   "cell_type": "code",
   "execution_count": 79,
   "id": "46a3e107-ad8f-4ed7-9081-58e5b35797f1",
   "metadata": {},
   "outputs": [
    {
     "name": "stdout",
     "output_type": "stream",
     "text": [
      "['a', 'd', 'c', 'a', 'f']\n",
      "True\n"
     ]
    }
   ],
   "source": [
    "pattern = r'or|and'\n",
    "pattern2 = r'==|!=|not in|in|\\''\n",
    "s = \"a == 'mmm' or d not in 'rth' and c== 55 and type('a') is str and type(\\\"f\\\") is str\".replace(\"\\\"\",\"'\").replace('type(\\'',\"\")\n",
    "result = re.split(pattern, s)\n",
    "d = [re.split(pattern2, i)[0].split()[0] for i in result]\n",
    "print(d)\n",
    "f = ['a', 'b', 'c', 'd']\n",
    "print(bool(False in (x in f for x in d)))"
   ]
  },
  {
   "cell_type": "code",
   "execution_count": 17,
   "id": "f63f3895-b0d1-4656-8d95-be6bbb82ec41",
   "metadata": {},
   "outputs": [
    {
     "name": "stdout",
     "output_type": "stream",
     "text": [
      "['Lorem', ' ==: ipsum. dolor sit amet', ' consectetur adipiscing elit.']\n"
     ]
    }
   ],
   "source": [
    "import re\n",
    "str = 'Lorem; ==: ipsum. dolor sit amet, consectetur adipiscing elit.'\n",
    "str = re.split(r';|,|\\.', str)\n",
    "print(str)"
   ]
  },
  {
   "cell_type": "code",
   "execution_count": 80,
   "id": "464790d4-3454-4543-86b7-bc1b34252111",
   "metadata": {},
   "outputs": [
    {
     "data": {
      "text/plain": [
       "True"
      ]
     },
     "execution_count": 80,
     "metadata": {},
     "output_type": "execute_result"
    }
   ],
   "source": [
    "type(5) == int"
   ]
  },
  {
   "cell_type": "code",
   "execution_count": 99,
   "id": "47414b99-65e7-4e56-bf39-e36aaa7fd023",
   "metadata": {},
   "outputs": [
    {
     "name": "stdout",
     "output_type": "stream",
     "text": [
      "44454c455445\n",
      "0x44454c455445\n"
     ]
    }
   ],
   "source": [
    "s= 'DELETE'.encode('utf-8')\n",
    "print(s.hex())\n",
    "hex_s = '0x'+s.hex()\n",
    "a = int(hex_s,16)\n",
    "hex_n = hex(a)\n",
    "print(hex_n)"
   ]
  },
  {
   "cell_type": "code",
   "execution_count": 105,
   "id": "6a450310-3536-4bd3-a321-34e23fdd9ae4",
   "metadata": {},
   "outputs": [
    {
     "data": {
      "text/plain": [
       "'0x1c075d9cce2eb5df76107e8c4eba25e0e9f76a5'"
      ]
     },
     "execution_count": 105,
     "metadata": {},
     "output_type": "execute_result"
    }
   ],
   "source": [
    "\n",
    "\n",
    "my_hexdata = hex_n\n",
    "\n",
    "scale = 16 ## equals to hexadecimal\n",
    "\n",
    "num_of_bits = 8\n",
    "\n",
    "bin(int(my_hexdata, scale))[2:].zfill(num_of_bits)\n",
    "hex(10001000100010101001100010001010101010001000101)"
   ]
  },
  {
   "cell_type": "code",
   "execution_count": 7,
   "id": "e5841c2e-e502-4e28-82d2-aecebb539dc8",
   "metadata": {},
   "outputs": [
    {
     "name": "stdout",
     "output_type": "stream",
     "text": [
      "None\n"
     ]
    }
   ],
   "source": [
    "def a():\n",
    "    retur = None\n",
    "    global retur\n",
    "    def d(x):\n",
    "        global retur\n",
    "        retur = x\n",
    "    exec(\"d('a')\")\n",
    "    return retur\n",
    "print(a())"
   ]
  },
  {
   "cell_type": "code",
   "execution_count": null,
   "id": "ad94a20a-300d-4538-9ab3-6e3a3d10d493",
   "metadata": {},
   "outputs": [],
   "source": []
  }
 ],
 "metadata": {
  "kernelspec": {
   "display_name": "Python 3",
   "language": "python",
   "name": "python3"
  },
  "language_info": {
   "codemirror_mode": {
    "name": "ipython",
    "version": 3
   },
   "file_extension": ".py",
   "mimetype": "text/x-python",
   "name": "python",
   "nbconvert_exporter": "python",
   "pygments_lexer": "ipython3",
   "version": "3.8.6"
  }
 },
 "nbformat": 4,
 "nbformat_minor": 5
}
